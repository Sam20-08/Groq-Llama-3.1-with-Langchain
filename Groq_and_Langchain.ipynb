{
  "nbformat": 4,
  "nbformat_minor": 0,
  "metadata": {
    "colab": {
      "provenance": [],
      "gpuType": "T4"
    },
    "kernelspec": {
      "name": "python3",
      "display_name": "Python 3"
    },
    "language_info": {
      "name": "python"
    },
    "accelerator": "GPU"
  },
  "cells": [
    {
      "cell_type": "markdown",
      "source": [
        "# Accessing Llama 3.1 from Groq"
      ],
      "metadata": {
        "id": "qlPxtLyte_-i"
      }
    },
    {
      "cell_type": "code",
      "execution_count": 1,
      "metadata": {
        "colab": {
          "base_uri": "https://localhost:8080/"
        },
        "collapsed": true,
        "id": "k18WSxycZHmO",
        "outputId": "9661fdfa-8b89-485a-fdcf-811161edad19"
      },
      "outputs": [
        {
          "output_type": "stream",
          "name": "stdout",
          "text": [
            "Collecting groq\n",
            "  Downloading groq-0.9.0-py3-none-any.whl.metadata (13 kB)\n",
            "Requirement already satisfied: anyio<5,>=3.5.0 in /usr/local/lib/python3.10/dist-packages (from groq) (3.7.1)\n",
            "Requirement already satisfied: distro<2,>=1.7.0 in /usr/lib/python3/dist-packages (from groq) (1.7.0)\n",
            "Collecting httpx<1,>=0.23.0 (from groq)\n",
            "  Downloading httpx-0.27.0-py3-none-any.whl.metadata (7.2 kB)\n",
            "Requirement already satisfied: pydantic<3,>=1.9.0 in /usr/local/lib/python3.10/dist-packages (from groq) (2.8.2)\n",
            "Requirement already satisfied: sniffio in /usr/local/lib/python3.10/dist-packages (from groq) (1.3.1)\n",
            "Requirement already satisfied: typing-extensions<5,>=4.7 in /usr/local/lib/python3.10/dist-packages (from groq) (4.12.2)\n",
            "Requirement already satisfied: idna>=2.8 in /usr/local/lib/python3.10/dist-packages (from anyio<5,>=3.5.0->groq) (3.7)\n",
            "Requirement already satisfied: exceptiongroup in /usr/local/lib/python3.10/dist-packages (from anyio<5,>=3.5.0->groq) (1.2.2)\n",
            "Requirement already satisfied: certifi in /usr/local/lib/python3.10/dist-packages (from httpx<1,>=0.23.0->groq) (2024.7.4)\n",
            "Collecting httpcore==1.* (from httpx<1,>=0.23.0->groq)\n",
            "  Downloading httpcore-1.0.5-py3-none-any.whl.metadata (20 kB)\n",
            "Collecting h11<0.15,>=0.13 (from httpcore==1.*->httpx<1,>=0.23.0->groq)\n",
            "  Downloading h11-0.14.0-py3-none-any.whl.metadata (8.2 kB)\n",
            "Requirement already satisfied: annotated-types>=0.4.0 in /usr/local/lib/python3.10/dist-packages (from pydantic<3,>=1.9.0->groq) (0.7.0)\n",
            "Requirement already satisfied: pydantic-core==2.20.1 in /usr/local/lib/python3.10/dist-packages (from pydantic<3,>=1.9.0->groq) (2.20.1)\n",
            "Downloading groq-0.9.0-py3-none-any.whl (103 kB)\n",
            "\u001b[2K   \u001b[90m━━━━━━━━━━━━━━━━━━━━━━━━━━━━━━━━━━━━━━━━\u001b[0m \u001b[32m103.5/103.5 kB\u001b[0m \u001b[31m7.0 MB/s\u001b[0m eta \u001b[36m0:00:00\u001b[0m\n",
            "\u001b[?25hDownloading httpx-0.27.0-py3-none-any.whl (75 kB)\n",
            "\u001b[2K   \u001b[90m━━━━━━━━━━━━━━━━━━━━━━━━━━━━━━━━━━━━━━━━\u001b[0m \u001b[32m75.6/75.6 kB\u001b[0m \u001b[31m6.3 MB/s\u001b[0m eta \u001b[36m0:00:00\u001b[0m\n",
            "\u001b[?25hDownloading httpcore-1.0.5-py3-none-any.whl (77 kB)\n",
            "\u001b[2K   \u001b[90m━━━━━━━━━━━━━━━━━━━━━━━━━━━━━━━━━━━━━━━━\u001b[0m \u001b[32m77.9/77.9 kB\u001b[0m \u001b[31m6.5 MB/s\u001b[0m eta \u001b[36m0:00:00\u001b[0m\n",
            "\u001b[?25hDownloading h11-0.14.0-py3-none-any.whl (58 kB)\n",
            "\u001b[2K   \u001b[90m━━━━━━━━━━━━━━━━━━━━━━━━━━━━━━━━━━━━━━━━\u001b[0m \u001b[32m58.3/58.3 kB\u001b[0m \u001b[31m5.4 MB/s\u001b[0m eta \u001b[36m0:00:00\u001b[0m\n",
            "\u001b[?25hInstalling collected packages: h11, httpcore, httpx, groq\n",
            "Successfully installed groq-0.9.0 h11-0.14.0 httpcore-1.0.5 httpx-0.27.0\n"
          ]
        }
      ],
      "source": [
        "!pip install groq"
      ]
    },
    {
      "cell_type": "code",
      "source": [
        "import os"
      ],
      "metadata": {
        "id": "ToN6qQiIcnmG"
      },
      "execution_count": 2,
      "outputs": []
    },
    {
      "cell_type": "code",
      "source": [
        "os.environ[\"GROQ_API_KEY\"]=\"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\""
      ],
      "metadata": {
        "id": "YdNz6BJJZZkk"
      },
      "execution_count": 3,
      "outputs": []
    },
    {
      "cell_type": "code",
      "source": [
        "from groq import Groq\n",
        "client=Groq()"
      ],
      "metadata": {
        "id": "7h9AomXqcwAR"
      },
      "execution_count": 4,
      "outputs": []
    },
    {
      "cell_type": "code",
      "source": [
        "response=client.chat.completions.create(\n",
        "    messages=[\n",
        "         {\"role\":\"user\",\n",
        " \"content\": \"give me top 5 best rated restaurants names\"}\n",
        "    ],model=\"llama-3.1-8b-instant\"\n",
        ")"
      ],
      "metadata": {
        "id": "jAfA-3K9c1Bn"
      },
      "execution_count": 6,
      "outputs": []
    },
    {
      "cell_type": "code",
      "source": [
        "print(response.choices[0].message.content)"
      ],
      "metadata": {
        "colab": {
          "base_uri": "https://localhost:8080/"
        },
        "id": "m00w0wS6ebji",
        "outputId": "e1aed0cc-5ddd-44e8-a6ae-f9226a903539"
      },
      "execution_count": 12,
      "outputs": [
        {
          "output_type": "stream",
          "name": "stdout",
          "text": [
            "Here are 5 of the top-rated restaurants in the US, based on online reviews from sources like Yelp, TripAdvisor, and Google:\n",
            "\n",
            "1. **Alinea** (Chicago, IL) - a fine dining restaurant with a 4.9/5 rating\n",
            "\t* Known for its avant-garde and experimental cuisine, Alinea is a three-Michelin-starred restaurant that offers a unique and immersive dining experience.\n",
            "2. **Uchi** (Austin, TX) - a Japanese restaurant with a 4.9/5 rating\n",
            "\t* This award-winning restaurant serves fresh, seasonal seafood and Japanese-inspired dishes in a lively and modern atmosphere.\n",
            "3. **Eleven Madison Park** (New York, NY) - a fine dining restaurant with a 4.8/5 rating\n",
            "\t* A three-Michelin-starred restaurant located in the Flatiron District, Eleven Madison Park offers a seasonal tasting menu in a beautifully designed setting.\n",
            "4. **Dominique Crenn's Atelier Crenn** (San Francisco, CA) - a fine dining restaurant with a 4.8/5 rating\n",
            "\t* This two-Michelin-starred restaurant offers a tasting menu that reflects Chef Dominique Crenn's love of French cuisine and her passion for innovative, farm-to-table cooking.\n",
            "5. **Next** (Chicago, IL) - a fine dining restaurant with a 4.7/5 rating\n",
            "\t* Another venture from the Alinea team, Next offers a unique and seasonal tasting menu that changes monthly. The restaurant is known for its creative and innovative approach to cuisine.\n",
            "\n",
            "Note that ratings can vary depending on the source and date, but these 5 restaurants are consistently ranked among the top-rated restaurants in the US.\n"
          ]
        }
      ]
    },
    {
      "cell_type": "markdown",
      "source": [
        "# Langchain Groq"
      ],
      "metadata": {
        "id": "pz3as8wtfLMc"
      }
    },
    {
      "cell_type": "code",
      "source": [
        "!pip install langchain-groq==0.1.6"
      ],
      "metadata": {
        "colab": {
          "base_uri": "https://localhost:8080/"
        },
        "collapsed": true,
        "id": "3o7HumHgeiDR",
        "outputId": "986133e3-1039-4d6a-93c8-3c57c988133d"
      },
      "execution_count": 14,
      "outputs": [
        {
          "output_type": "stream",
          "name": "stdout",
          "text": [
            "Collecting langchain-groq==0.1.6\n",
            "  Downloading langchain_groq-0.1.6-py3-none-any.whl.metadata (2.8 kB)\n",
            "Requirement already satisfied: groq<1,>=0.4.1 in /usr/local/lib/python3.10/dist-packages (from langchain-groq==0.1.6) (0.9.0)\n",
            "Requirement already satisfied: langchain-core<0.3,>=0.2.2 in /usr/local/lib/python3.10/dist-packages (from langchain-groq==0.1.6) (0.2.28)\n",
            "Requirement already satisfied: anyio<5,>=3.5.0 in /usr/local/lib/python3.10/dist-packages (from groq<1,>=0.4.1->langchain-groq==0.1.6) (3.7.1)\n",
            "Requirement already satisfied: distro<2,>=1.7.0 in /usr/lib/python3/dist-packages (from groq<1,>=0.4.1->langchain-groq==0.1.6) (1.7.0)\n",
            "Requirement already satisfied: httpx<1,>=0.23.0 in /usr/local/lib/python3.10/dist-packages (from groq<1,>=0.4.1->langchain-groq==0.1.6) (0.27.0)\n",
            "Requirement already satisfied: pydantic<3,>=1.9.0 in /usr/local/lib/python3.10/dist-packages (from groq<1,>=0.4.1->langchain-groq==0.1.6) (2.8.2)\n",
            "Requirement already satisfied: sniffio in /usr/local/lib/python3.10/dist-packages (from groq<1,>=0.4.1->langchain-groq==0.1.6) (1.3.1)\n",
            "Requirement already satisfied: typing-extensions<5,>=4.7 in /usr/local/lib/python3.10/dist-packages (from groq<1,>=0.4.1->langchain-groq==0.1.6) (4.12.2)\n",
            "Requirement already satisfied: PyYAML>=5.3 in /usr/local/lib/python3.10/dist-packages (from langchain-core<0.3,>=0.2.2->langchain-groq==0.1.6) (6.0.1)\n",
            "Requirement already satisfied: jsonpatch<2.0,>=1.33 in /usr/local/lib/python3.10/dist-packages (from langchain-core<0.3,>=0.2.2->langchain-groq==0.1.6) (1.33)\n",
            "Requirement already satisfied: langsmith<0.2.0,>=0.1.75 in /usr/local/lib/python3.10/dist-packages (from langchain-core<0.3,>=0.2.2->langchain-groq==0.1.6) (0.1.96)\n",
            "Requirement already satisfied: packaging<25,>=23.2 in /usr/local/lib/python3.10/dist-packages (from langchain-core<0.3,>=0.2.2->langchain-groq==0.1.6) (24.1)\n",
            "Requirement already satisfied: tenacity!=8.4.0,<9.0.0,>=8.1.0 in /usr/local/lib/python3.10/dist-packages (from langchain-core<0.3,>=0.2.2->langchain-groq==0.1.6) (8.5.0)\n",
            "Requirement already satisfied: idna>=2.8 in /usr/local/lib/python3.10/dist-packages (from anyio<5,>=3.5.0->groq<1,>=0.4.1->langchain-groq==0.1.6) (3.7)\n",
            "Requirement already satisfied: exceptiongroup in /usr/local/lib/python3.10/dist-packages (from anyio<5,>=3.5.0->groq<1,>=0.4.1->langchain-groq==0.1.6) (1.2.2)\n",
            "Requirement already satisfied: certifi in /usr/local/lib/python3.10/dist-packages (from httpx<1,>=0.23.0->groq<1,>=0.4.1->langchain-groq==0.1.6) (2024.7.4)\n",
            "Requirement already satisfied: httpcore==1.* in /usr/local/lib/python3.10/dist-packages (from httpx<1,>=0.23.0->groq<1,>=0.4.1->langchain-groq==0.1.6) (1.0.5)\n",
            "Requirement already satisfied: h11<0.15,>=0.13 in /usr/local/lib/python3.10/dist-packages (from httpcore==1.*->httpx<1,>=0.23.0->groq<1,>=0.4.1->langchain-groq==0.1.6) (0.14.0)\n",
            "Requirement already satisfied: jsonpointer>=1.9 in /usr/local/lib/python3.10/dist-packages (from jsonpatch<2.0,>=1.33->langchain-core<0.3,>=0.2.2->langchain-groq==0.1.6) (3.0.0)\n",
            "Requirement already satisfied: orjson<4.0.0,>=3.9.14 in /usr/local/lib/python3.10/dist-packages (from langsmith<0.2.0,>=0.1.75->langchain-core<0.3,>=0.2.2->langchain-groq==0.1.6) (3.10.6)\n",
            "Requirement already satisfied: requests<3,>=2 in /usr/local/lib/python3.10/dist-packages (from langsmith<0.2.0,>=0.1.75->langchain-core<0.3,>=0.2.2->langchain-groq==0.1.6) (2.31.0)\n",
            "Requirement already satisfied: annotated-types>=0.4.0 in /usr/local/lib/python3.10/dist-packages (from pydantic<3,>=1.9.0->groq<1,>=0.4.1->langchain-groq==0.1.6) (0.7.0)\n",
            "Requirement already satisfied: pydantic-core==2.20.1 in /usr/local/lib/python3.10/dist-packages (from pydantic<3,>=1.9.0->groq<1,>=0.4.1->langchain-groq==0.1.6) (2.20.1)\n",
            "Requirement already satisfied: charset-normalizer<4,>=2 in /usr/local/lib/python3.10/dist-packages (from requests<3,>=2->langsmith<0.2.0,>=0.1.75->langchain-core<0.3,>=0.2.2->langchain-groq==0.1.6) (3.3.2)\n",
            "Requirement already satisfied: urllib3<3,>=1.21.1 in /usr/local/lib/python3.10/dist-packages (from requests<3,>=2->langsmith<0.2.0,>=0.1.75->langchain-core<0.3,>=0.2.2->langchain-groq==0.1.6) (2.0.7)\n",
            "Downloading langchain_groq-0.1.6-py3-none-any.whl (14 kB)\n",
            "Installing collected packages: langchain-groq\n",
            "  Attempting uninstall: langchain-groq\n",
            "    Found existing installation: langchain-groq 0.1.9\n",
            "    Uninstalling langchain-groq-0.1.9:\n",
            "      Successfully uninstalled langchain-groq-0.1.9\n",
            "Successfully installed langchain-groq-0.1.6\n"
          ]
        }
      ]
    },
    {
      "cell_type": "code",
      "source": [
        "from langchain_groq import ChatGroq"
      ],
      "metadata": {
        "id": "yBW54aLdfTUF"
      },
      "execution_count": 16,
      "outputs": []
    },
    {
      "cell_type": "code",
      "source": [
        "llm=ChatGroq(\n",
        "    model=\"llama-3.1-8b-instant\",\n",
        "    temperature=0,\n",
        ")"
      ],
      "metadata": {
        "id": "OXzbDlmrgiT5"
      },
      "execution_count": 17,
      "outputs": []
    },
    {
      "cell_type": "code",
      "source": [
        "response=llm.invoke(\"Give me top 5 Bussiness man around the world\")"
      ],
      "metadata": {
        "id": "vkkxUrI1hPO7"
      },
      "execution_count": 18,
      "outputs": []
    },
    {
      "cell_type": "code",
      "source": [
        "print(response.content)"
      ],
      "metadata": {
        "colab": {
          "base_uri": "https://localhost:8080/"
        },
        "id": "N7iyptf4hfYQ",
        "outputId": "02893645-fd07-4bcf-8a54-b4e5275ed518"
      },
      "execution_count": 21,
      "outputs": [
        {
          "output_type": "stream",
          "name": "stdout",
          "text": [
            "Here are the top 5 business leaders around the world, based on their net worth, influence, and impact on the global economy:\n",
            "\n",
            "**1. Jeff Bezos - Net Worth: $207 Billion**\n",
            "\n",
            "* Founder and Executive Chairman of Amazon\n",
            "* Founder of Blue Origin (space exploration company)\n",
            "* Known for his innovative approach to e-commerce and disruption of traditional retail\n",
            "\n",
            "**2. Bill Gates - Net Worth: $152 Billion**\n",
            "\n",
            "* Co-Founder of Microsoft\n",
            "* Philanthropist and founder of the Bill and Melinda Gates Foundation\n",
            "* Known for his leadership in the tech industry and commitment to global health and education\n",
            "\n",
            "**3. Warren Buffett - Net Worth: $123 Billion**\n",
            "\n",
            "* Investor and CEO of Berkshire Hathaway\n",
            "* Known for his value investing philosophy and long-term approach to wealth creation\n",
            "* One of the most successful investors in history, with a track record of delivering strong returns for his shareholders\n",
            "\n",
            "**4. Mark Zuckerberg - Net Worth: $114 Billion**\n",
            "\n",
            "* Co-Founder and CEO of Facebook\n",
            "* Known for his leadership in the social media industry and his vision for a connected world\n",
            "* Has played a significant role in shaping the way people communicate and interact online\n",
            "\n",
            "**5. Bernard Arnault - Net Worth: $108 Billion**\n",
            "\n",
            "* Chairman and CEO of LVMH (Moët Hennessy Louis Vuitton)\n",
            "* Known for his leadership in the luxury goods industry and his ability to drive growth and innovation\n",
            "* Has transformed LVMH into one of the largest and most successful luxury conglomerates in the world\n",
            "\n",
            "Note: Net worth values are subject to change and may fluctuate based on various market and economic factors. These figures are based on estimates from Forbes and Bloomberg.\n"
          ]
        }
      ]
    },
    {
      "cell_type": "code",
      "source": [],
      "metadata": {
        "id": "wEb0iEuNhg4f"
      },
      "execution_count": null,
      "outputs": []
    }
  ]
}